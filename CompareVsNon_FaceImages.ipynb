{
  "nbformat": 4,
  "nbformat_minor": 0,
  "metadata": {
    "colab": {
      "name": "CompareVsNon-FaceImages.ipynb",
      "provenance": [],
      "collapsed_sections": [],
      "include_colab_link": true
    },
    "kernelspec": {
      "name": "python3",
      "display_name": "Python 3"
    },
    "language_info": {
      "name": "python"
    }
  },
  "cells": [
    {
      "cell_type": "markdown",
      "metadata": {
        "id": "view-in-github",
        "colab_type": "text"
      },
      "source": [
        "<a href=\"https://colab.research.google.com/github/lOmarMisbahl/FaceRecognition/blob/main/CompareVsNon_FaceImages.ipynb\" target=\"_parent\"><img src=\"https://colab.research.google.com/assets/colab-badge.svg\" alt=\"Open In Colab\"/></a>"
      ]
    },
    {
      "cell_type": "code",
      "metadata": {
        "id": "j3wTX8UN8R0L"
      },
      "source": [
        "from os import listdir\n",
        "from PIL import Image as PImage\n",
        "import matplotlib.pyplot as plt\n",
        "import numpy as np"
      ],
      "execution_count": null,
      "outputs": []
    },
    {
      "cell_type": "code",
      "metadata": {
        "id": "fOkuN8LKtfHn"
      },
      "source": [
        "def loadImages(path):\n",
        "    foldersList = listdir(path)\n",
        "    loadedImages = []\n",
        "    for folder in foldersList :\n",
        "        imagesList = listdir(path+folder)\n",
        "        for image in imagesList:\n",
        "            img = PImage.open(path +folder+'/'+ image)\n",
        "            loadedImages.append(img)\n",
        "    return loadedImages"
      ],
      "execution_count": null,
      "outputs": []
    },
    {
      "cell_type": "code",
      "metadata": {
        "colab": {
          "base_uri": "https://localhost:8080/"
        },
        "id": "ORLaXe2e_cS1",
        "outputId": "07a851f5-3507-4329-aeef-6f3917237913"
      },
      "source": [
        "from google.colab import drive\n",
        "drive.mount('/content/drive')"
      ],
      "execution_count": null,
      "outputs": [
        {
          "output_type": "stream",
          "text": [
            "Drive already mounted at /content/drive; to attempt to forcibly remount, call drive.mount(\"/content/drive\", force_remount=True).\n"
          ],
          "name": "stdout"
        }
      ]
    },
    {
      "cell_type": "code",
      "metadata": {
        "id": "4HosTGfj-vHE"
      },
      "source": [
        "path = \"/content/drive/MyDrive/ORL/\"\n",
        "imgs = loadImages(path)"
      ],
      "execution_count": null,
      "outputs": []
    },
    {
      "cell_type": "code",
      "metadata": {
        "id": "9KkzuZs4L898"
      },
      "source": [
        "cifarpath = \"/content/drive/MyDrive/CIFAR/\"\n",
        "cifar = loadImages(cifarpath)"
      ],
      "execution_count": null,
      "outputs": []
    },
    {
      "cell_type": "code",
      "metadata": {
        "id": "aySvuXvNPat8"
      },
      "source": [
        "dataMatrix = np.arange(800*5600).reshape(800,5600)\n",
        "label = []\n",
        "for i in range(0,400) :\n",
        "    dataMatrix[i] = np.array(imgs[i]).flatten()\n",
        "    label.append(1)\n",
        "for i in range(400,800) :\n",
        "    dataMatrix[i] = np.array(cifar[i-400]).flatten()\n",
        "    label.append(2)"
      ],
      "execution_count": null,
      "outputs": []
    },
    {
      "cell_type": "code",
      "metadata": {
        "id": "B8sv_fk4Oz9Z"
      },
      "source": [
        "trainSet=np.arange(400*5600).reshape(400,5600)\n",
        "testSet=np.arange(400*5600).reshape(400,5600)\n",
        "trainLabel=[]\n",
        "testLabel=[]\n",
        "j,k=0,0\n",
        "for i in range(0,800):\n",
        "    if(i%2==0):\n",
        "        testSet[j]=dataMatrix[i]\n",
        "        testLabel.append(label[i])\n",
        "        j+=1\n",
        "    else:\n",
        "        trainSet[k]=dataMatrix[i]\n",
        "        trainLabel.append(label[i])\n",
        "        k+=1"
      ],
      "execution_count": null,
      "outputs": []
    },
    {
      "cell_type": "code",
      "metadata": {
        "id": "NeUlOovxPYfp"
      },
      "source": [
        "trainMean=np.mean(trainSet,axis=0)\n",
        "centeredTrainMatrix=trainSet-trainMean\n",
        "covMatrix = (1/400)*np.dot(np.transpose(centeredTrainMatrix), centeredTrainMatrix)"
      ],
      "execution_count": null,
      "outputs": []
    },
    {
      "cell_type": "code",
      "metadata": {
        "id": "LxE-KDlpQgn1"
      },
      "source": [
        "eigVal,eigVect=np.linalg.eigh(covMatrix)\n",
        "idx = eigVal.argsort()[::-1]\n",
        "sortedEigVal = np.real(eigVal[idx])\n",
        "sortedEigVect = np.real(eigVect[:,idx])"
      ],
      "execution_count": null,
      "outputs": []
    },
    {
      "cell_type": "code",
      "metadata": {
        "id": "hpwJDTh0QmMH"
      },
      "source": [
        "def computeDimensionality(eigVal,threshold):\n",
        "    dataVariance=np.sum(eigVal)\n",
        "    fractionOfTotalVariance,R,eigValSum=0,1,0\n",
        "    while(fractionOfTotalVariance<threshold):\n",
        "        eigValSum+=eigVal[R-1]\n",
        "        fractionOfTotalVariance=eigValSum/dataVariance\n",
        "        R+=1\n",
        "    return R"
      ],
      "execution_count": null,
      "outputs": []
    },
    {
      "cell_type": "code",
      "metadata": {
        "colab": {
          "base_uri": "https://localhost:8080/",
          "height": 350
        },
        "id": "IO2PiTV6QoC_",
        "outputId": "a90e560e-1f05-4132-9042-f8a61fbf4593"
      },
      "source": [
        "Alpha1dim=computeDimensionality(sortedEigVal,0.8)\n",
        "Alpha2dim=computeDimensionality(sortedEigVal,0.85)\n",
        "Alpha3dim=computeDimensionality(sortedEigVal,0.9)\n",
        "Alpha4dim=computeDimensionality(sortedEigVal,0.95)\n",
        "plt.plot([Alpha1dim,Alpha2dim,Alpha3dim,Alpha4dim], [0.8,0.85,0.9,0.95]);\n",
        "plt.title('Alpha versus Number of Reduced Dimensions');\n",
        "plt.gcf().set_size_inches(15,5);\n",
        "plt.xlabel('R');\n",
        "plt.ylabel('Alpha');"
      ],
      "execution_count": null,
      "outputs": [
        {
          "output_type": "display_data",
          "data": {
            "image/png": "[encoded data removed]",
            "text/plain": [
              "<Figure size 1080x360 with 1 Axes>"
            ]
          },
          "metadata": {
            "tags": [],
            "needs_background": "light"
          }
        }
      ]
    },
    {
      "cell_type": "code",
      "metadata": {
        "id": "kejX8hyiFZJJ"
      },
      "source": [
        "projMat1=sortedEigVect[:,0:Alpha1dim]\n",
        "projMat2=sortedEigVect[:,0:Alpha2dim]\n",
        "projMat3=sortedEigVect[:,0:Alpha3dim]\n",
        "projMat4=sortedEigVect[:,0:Alpha4dim]"
      ],
      "execution_count": null,
      "outputs": []
    },
    {
      "cell_type": "code",
      "metadata": {
        "id": "T6jxpaBSLOZN"
      },
      "source": [
        "reducedTrain1= np.dot(trainSet,projMat1)\n",
        "reducedTrain2= np.dot(trainSet,projMat2)\n",
        "reducedTrain3= np.dot(trainSet,projMat3)\n",
        "reducedTrain4= np.dot(trainSet,projMat4)"
      ],
      "execution_count": null,
      "outputs": []
    },
    {
      "cell_type": "code",
      "metadata": {
        "id": "7AVNpljGNM2J"
      },
      "source": [
        "reducedTest1= np.dot(testSet,projMat1)\n",
        "reducedTest2= np.dot(testSet,projMat2)\n",
        "reducedTest3= np.dot(testSet,projMat3)\n",
        "reducedTest4= np.dot(testSet,projMat4)"
      ],
      "execution_count": null,
      "outputs": []
    },
    {
      "cell_type": "code",
      "metadata": {
        "id": "pCabqilF1H8P"
      },
      "source": [
        "from sklearn.neighbors import KNeighborsClassifier\n",
        "from sklearn import metrics"
      ],
      "execution_count": null,
      "outputs": []
    },
    {
      "cell_type": "code",
      "metadata": {
        "id": "AvQeNDLSMtKv"
      },
      "source": [
        "def knn(trainingSet,trainingLabel,testSet,testLabel,k):\n",
        "    knn=KNeighborsClassifier(n_neighbors=k)\n",
        "    knn.fit(trainingSet,trainingLabel)\n",
        "    predict=knn.predict(testSet)\n",
        "    accuracy=metrics.accuracy_score(testLabel,predict)\n",
        "    return accuracy"
      ],
      "execution_count": null,
      "outputs": []
    },
    {
      "cell_type": "code",
      "metadata": {
        "colab": {
          "base_uri": "https://localhost:8080/"
        },
        "id": "yRR2Kj-fMvj5",
        "outputId": "f8939812-653b-4b40-c659-7a259293f1d3"
      },
      "source": [
        "knn(reducedTrain1,trainLabel,reducedTest1,testLabel,1)"
      ],
      "execution_count": null,
      "outputs": [
        {
          "output_type": "execute_result",
          "data": {
            "text/plain": [
              "0.975"
            ]
          },
          "metadata": {
            "tags": []
          },
          "execution_count": 41
        }
      ]
    },
    {
      "cell_type": "code",
      "metadata": {
        "colab": {
          "base_uri": "https://localhost:8080/"
        },
        "id": "7bGnT3uZP8ZI",
        "outputId": "cb889b74-d0b1-4839-d167-d6e486429a49"
      },
      "source": [
        "knn(reducedTrain2,trainLabel,reducedTest2,testLabel,1)"
      ],
      "execution_count": null,
      "outputs": [
        {
          "output_type": "execute_result",
          "data": {
            "text/plain": [
              "0.97"
            ]
          },
          "metadata": {
            "tags": []
          },
          "execution_count": 42
        }
      ]
    },
    {
      "cell_type": "code",
      "metadata": {
        "colab": {
          "base_uri": "https://localhost:8080/"
        },
        "id": "oeRtCdvIP86T",
        "outputId": "23b017bb-872c-4a83-e231-a80f922b86f8"
      },
      "source": [
        "knn(reducedTrain3,trainLabel,reducedTest3,testLabel,1)"
      ],
      "execution_count": null,
      "outputs": [
        {
          "output_type": "execute_result",
          "data": {
            "text/plain": [
              "0.9725"
            ]
          },
          "metadata": {
            "tags": []
          },
          "execution_count": 43
        }
      ]
    },
    {
      "cell_type": "code",
      "metadata": {
        "colab": {
          "base_uri": "https://localhost:8080/"
        },
        "id": "Ud0G_JHkP9dx",
        "outputId": "3d0e855d-b7dd-400c-823d-b664b281c165"
      },
      "source": [
        "knn(reducedTrain4,trainLabel,reducedTest4,testLabel,1)"
      ],
      "execution_count": null,
      "outputs": [
        {
          "output_type": "execute_result",
          "data": {
            "text/plain": [
              "0.9775"
            ]
          },
          "metadata": {
            "tags": []
          },
          "execution_count": 44
        }
      ]
    },
    {
      "cell_type": "code",
      "metadata": {
        "colab": {
          "base_uri": "https://localhost:8080/",
          "height": 350
        },
        "id": "aVaBQ5yoQbvW",
        "outputId": "ae29d683-5b68-4c07-ddb2-87297522b8a7"
      },
      "source": [
        "plt.plot([0.8,0.85,0.9,0.95],[0.975,0.97,0.9725,0.9775]);\n",
        "plt.title('Relation between alpha and classification accuracy');\n",
        "plt.gcf().set_size_inches(15,5);\n",
        "plt.xlabel('Alpha');\n",
        "plt.ylabel('Accuracy');"
      ],
      "execution_count": null,
      "outputs": [
        {
          "output_type": "display_data",
          "data": {
            "image/png": "[encoded data removed]",
            "text/plain": [
              "<Figure size 1080x360 with 1 Axes>"
            ]
          },
          "metadata": {
            "tags": [],
            "needs_background": "light"
          }
        }
      ]
    },
    {
      "cell_type": "code",
      "metadata": {
        "id": "dNJ9XRULdkJ8"
      },
      "source": [
        "classesList=[]\n",
        "classesList.append(trainSet[0:200,:])\n",
        "classesList.append(trainSet[200:400,:])"
      ],
      "execution_count": null,
      "outputs": []
    },
    {
      "cell_type": "code",
      "metadata": {
        "id": "GE_geGk-dolB"
      },
      "source": [
        "classesMeans=[]\n",
        "classesMeans.append(np.mean(trainSet[0:200,:],axis=0))\n",
        "classesMeans.append(np.mean(trainSet[200:400,:],axis=0))"
      ],
      "execution_count": null,
      "outputs": []
    },
    {
      "cell_type": "code",
      "metadata": {
        "id": "qpOwxOWaRaNC"
      },
      "source": [
        "withinClassScatterMatrix = np.zeros((5600,5600))\n",
        "for i in range(0,2):                                        \n",
        "    centeredMatrix = (classesList[i]-classesMeans[i])\n",
        "    withinClassScatterMatrix += np.dot(np.transpose(centeredMatrix),centeredMatrix)"
      ],
      "execution_count": null,
      "outputs": []
    },
    {
      "cell_type": "code",
      "metadata": {
        "id": "h9pQJ9XDRz6r"
      },
      "source": [
        "betweenClassScatterMatrix = np.zeros((5600,5600))\n",
        "betweenClassScatterMatrix=np.outer(classesMeans[0]-classesMeans[1],np.transpose(classesMeans[0]-classesMeans[1]))"
      ],
      "execution_count": null,
      "outputs": []
    },
    {
      "cell_type": "code",
      "metadata": {
        "id": "G0lzmREwiXZ8"
      },
      "source": [
        "withinClassScatterMatrixInv = np.linalg.pinv(withinClassScatterMatrix)"
      ],
      "execution_count": null,
      "outputs": []
    },
    {
      "cell_type": "code",
      "metadata": {
        "id": "ndLbjYRJiaZF"
      },
      "source": [
        "sinverse_b = np.dot(withinClassScatterMatrixInv , betweenClassScatterMatrix)"
      ],
      "execution_count": null,
      "outputs": []
    },
    {
      "cell_type": "code",
      "metadata": {
        "id": "nFJTl7E2ionm"
      },
      "source": [
        "eigValLDA,eigVectLDA = np.linalg.eig(sinverse_b)"
      ],
      "execution_count": null,
      "outputs": []
    },
    {
      "cell_type": "code",
      "metadata": {
        "id": "hZ-h2lPTsADq"
      },
      "source": [
        "idx = eigValLDA.argsort()[::-1]\n",
        "sortedEigVectLDA = np.real(eigVectLDA[:,idx])"
      ],
      "execution_count": null,
      "outputs": []
    },
    {
      "cell_type": "code",
      "metadata": {
        "id": "l3zD4q5Blx6f"
      },
      "source": [
        "reducedTrainLDA = np.dot(trainSet,sortedEigVectLDA)\n",
        "reducedTestLDA = np.dot(testSet,sortedEigVectLDA)"
      ],
      "execution_count": null,
      "outputs": []
    },
    {
      "cell_type": "code",
      "metadata": {
        "colab": {
          "base_uri": "https://localhost:8080/"
        },
        "id": "QPLafxyQl3MR",
        "outputId": "fd725060-30ce-45e7-ae4f-bf7da82d59bb"
      },
      "source": [
        "knn(reducedTrainLDA,trainLabel,reducedTestLDA,testLabel,1)"
      ],
      "execution_count": null,
      "outputs": [
        {
          "output_type": "execute_result",
          "data": {
            "text/plain": [
              "0.92"
            ]
          },
          "metadata": {
            "tags": []
          },
          "execution_count": 67
        }
      ]
    },
    {
      "cell_type": "code",
      "metadata": {
        "colab": {
          "base_uri": "https://localhost:8080/",
          "height": 350
        },
        "id": "n_pnBgUQ4zEK",
        "outputId": "98d378c1-89e7-4884-a0be-79d1b1e43129"
      },
      "source": [
        "PCAscoreList = []\n",
        "for k in range(1,8,2):\n",
        "    PCAscoreList.append(knn(reducedTrain4,trainLabel,reducedTest4,testLabel,k))\n",
        "plt.plot([1,3,5,7],PCAscoreList);\n",
        "plt.title('The performance measure (accuracy) against the K value');\n",
        "plt.gcf().set_size_inches(15,5);\n",
        "plt.xlabel('K');\n",
        "plt.ylabel('Accuracy');"
      ],
      "execution_count": null,
      "outputs": [
        {
          "output_type": "display_data",
          "data": {
            "image/png": "[encoded data removed]",
            "text/plain": [
              "<Figure size 1080x360 with 1 Axes>"
            ]
          },
          "metadata": {
            "tags": [],
            "needs_background": "light"
          }
        }
      ]
    },
    {
      "cell_type": "code",
      "metadata": {
        "colab": {
          "base_uri": "https://localhost:8080/",
          "height": 350
        },
        "id": "7SfP0pVN4vYD",
        "outputId": "ffd857a3-2dfe-46d0-9f21-9a49de79fa94"
      },
      "source": [
        "LDAscoreList = []\n",
        "for k in range(1,8,2):\n",
        "    LDAscoreList.append(knn(reducedTrainLDA,trainLabel,reducedTestLDA,testLabel,k))\n",
        "plt.plot([1,3,5,7],LDAscoreList);\n",
        "plt.title('The performance measure (accuracy) against the K value');\n",
        "plt.gcf().set_size_inches(15,5);\n",
        "plt.xlabel('K');\n",
        "plt.ylabel('Accuracy');"
      ],
      "execution_count": null,
      "outputs": [
        {
          "output_type": "display_data",
          "data": {
            "image/png": "[encoded data removed]",
            "text/plain": [
              "<Figure size 1080x360 with 1 Axes>"
            ]
          },
          "metadata": {
            "tags": [],
            "needs_background": "light"
          }
        }
      ]
    }
  ]
}