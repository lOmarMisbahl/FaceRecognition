{
  "nbformat": 4,
  "nbformat_minor": 0,
  "metadata": {
    "colab": {
      "name": "FaceRecognition(70-30).ipynb",
      "provenance": [],
      "collapsed_sections": [],
      "include_colab_link": true
    },
    "kernelspec": {
      "name": "python3",
      "display_name": "Python 3"
    },
    "language_info": {
      "name": "python"
    }
  },
  "cells": [
    {
      "cell_type": "markdown",
      "metadata": {
        "id": "view-in-github",
        "colab_type": "text"
      },
      "source": [
        "<a href=\"https://colab.research.google.com/github/lOmarMisbahl/FaceRecognition/blob/main/FaceRecognition(70_30).ipynb\" target=\"_parent\"><img src=\"https://colab.research.google.com/assets/colab-badge.svg\" alt=\"Open In Colab\"/></a>"
      ]
    },
    {
      "cell_type": "code",
      "metadata": {
        "id": "j3wTX8UN8R0L"
      },
      "source": [
        "from os import listdir\n",
        "from PIL import Image as PImage\n",
        "import matplotlib.pyplot as plt\n",
        "import numpy as np"
      ],
      "execution_count": null,
      "outputs": []
    },
    {
      "cell_type": "code",
      "metadata": {
        "id": "SnhmceKJoPiM"
      },
      "source": [
        "def loadImages(path):\n",
        "    foldersList = listdir(path)\n",
        "    loadedImages = []\n",
        "    for folder in foldersList :\n",
        "        imagesList = listdir(path+folder)\n",
        "        for image in imagesList:\n",
        "            img = PImage.open(path +folder+'/'+ image)\n",
        "            loadedImages.append(img)\n",
        "    return loadedImages"
      ],
      "execution_count": null,
      "outputs": []
    },
    {
      "cell_type": "code",
      "metadata": {
        "colab": {
          "base_uri": "https://localhost:8080/"
        },
        "id": "ORLaXe2e_cS1",
        "outputId": "9d9bb4c3-c499-4a06-bbfd-5d2ec18a0a19"
      },
      "source": [
        "from google.colab import drive\n",
        "drive.mount('/content/drive')"
      ],
      "execution_count": null,
      "outputs": [
        {
          "output_type": "stream",
          "text": [
            "Drive already mounted at /content/drive; to attempt to forcibly remount, call drive.mount(\"/content/drive\", force_remount=True).\n"
          ],
          "name": "stdout"
        }
      ]
    },
    {
      "cell_type": "code",
      "metadata": {
        "id": "4HosTGfj-vHE"
      },
      "source": [
        "path = \"/content/drive/MyDrive/ORL/\"\n",
        "imgs = loadImages(path)"
      ],
      "execution_count": null,
      "outputs": []
    },
    {
      "cell_type": "code",
      "metadata": {
        "id": "g2YTsnETKgPf"
      },
      "source": [
        "dataMatrix = np.arange(400*5600).reshape(400,5600)\n",
        "for i in range(0,400) :\n",
        "    dataMatrix[i] = np.array(imgs[i]).flatten()"
      ],
      "execution_count": null,
      "outputs": []
    },
    {
      "cell_type": "code",
      "metadata": {
        "id": "B8sv_fk4Oz9Z"
      },
      "source": [
        "trainSet=np.arange(280*5600).reshape(280,5600)\n",
        "testSet=np.arange(120*5600).reshape(120,5600)\n",
        "trainLabel=[]\n",
        "testLabel=[]\n",
        "j,k=7,3\n",
        "Label=1\n",
        "for i in range(0,401,10):\n",
        "    if( i != 0 ):\n",
        "        trainSet[j-7:j,:]=dataMatrix[i-10:i-3,:]\n",
        "        testSet[k-3:k,:]=dataMatrix[i-3:i,:]\n",
        "        trainLabel[j-7:j]= np.full((7,1), Label, dtype=int)\n",
        "        testLabel[k-3:k]= np.full((3,1), Label, dtype=int)\n",
        "        Label+=1\n",
        "        j+=7\n",
        "        k+=3"
      ],
      "execution_count": null,
      "outputs": []
    },
    {
      "cell_type": "code",
      "metadata": {
        "id": "NeUlOovxPYfp"
      },
      "source": [
        "trainMean=np.mean(trainSet,axis=0)\n",
        "centeredTrainMatrix=trainSet-trainMean\n",
        "covMatrix = (1/280)*np.dot(np.transpose(centeredTrainMatrix), centeredTrainMatrix)"
      ],
      "execution_count": null,
      "outputs": []
    },
    {
      "cell_type": "code",
      "metadata": {
        "id": "LxE-KDlpQgn1"
      },
      "source": [
        "eigVal,eigVect=np.linalg.eigh(covMatrix)\n",
        "idx = eigVal.argsort()[::-1]\n",
        "sortedEigVal = np.real(eigVal[idx])\n",
        "sortedEigVect = np.real(eigVect[:,idx])"
      ],
      "execution_count": null,
      "outputs": []
    },
    {
      "cell_type": "code",
      "metadata": {
        "id": "hpwJDTh0QmMH"
      },
      "source": [
        "def computeDimensionality(eigVal,threshold):\n",
        "    dataVariance=np.sum(eigVal)\n",
        "    fractionOfTotalVariance,R,eigValSum=0,1,0\n",
        "    while(fractionOfTotalVariance<threshold):\n",
        "        eigValSum+=eigVal[R-1]\n",
        "        fractionOfTotalVariance=eigValSum/dataVariance\n",
        "        R+=1\n",
        "    return R"
      ],
      "execution_count": null,
      "outputs": []
    },
    {
      "cell_type": "code",
      "metadata": {
        "colab": {
          "base_uri": "https://localhost:8080/"
        },
        "id": "IO2PiTV6QoC_",
        "outputId": "8a3abf1c-ef43-4b75-864a-4fff5f4b6c51"
      },
      "source": [
        "Alpha1dim=computeDimensionality(sortedEigVal,0.8)\n",
        "Alpha2dim=computeDimensionality(sortedEigVal,0.85)\n",
        "Alpha3dim=computeDimensionality(sortedEigVal,0.9)\n",
        "Alpha4dim=computeDimensionality(sortedEigVal,0.95)\n",
        "plt.plot([Alpha1dim,Alpha2dim,Alpha3dim,Alpha4dim], [0.8,0.85,0.9,0.95]);\n",
        "plt.title('Alpha versus Number of Reduced Dimensions');\n",
        "plt.gcf().set_size_inches(15,5);\n",
        "plt.xlabel('R');\n",
        "plt.ylabel('Alpha');"
      ],
      "execution_count": null,
      "outputs": [
        {
          "output_type": "display_data",
          "data": {
            "image/png": "[encoded data removed]",
            "text/plain": [
              "<Figure size 1080x360 with 1 Axes>"
            ]
          },
          "metadata": {
            "tags": [],
            "needs_background": "light"
          }
        }
      ]
    },
    {
      "cell_type": "code",
      "metadata": {
        "id": "kejX8hyiFZJJ"
      },
      "source": [
        "projMat1=sortedEigVect[:,0:Alpha1dim]\n",
        "projMat2=sortedEigVect[:,0:Alpha2dim]\n",
        "projMat3=sortedEigVect[:,0:Alpha3dim]\n",
        "projMat4=sortedEigVect[:,0:Alpha4dim]"
      ],
      "execution_count": null,
      "outputs": []
    },
    {
      "cell_type": "code",
      "metadata": {
        "id": "T6jxpaBSLOZN"
      },
      "source": [
        "reducedTrain1= np.dot(trainSet,projMat1)\n",
        "reducedTrain2= np.dot(trainSet,projMat2)\n",
        "reducedTrain3= np.dot(trainSet,projMat3)\n",
        "reducedTrain4= np.dot(trainSet,projMat4)"
      ],
      "execution_count": null,
      "outputs": []
    },
    {
      "cell_type": "code",
      "metadata": {
        "id": "7AVNpljGNM2J"
      },
      "source": [
        "reducedTest1= np.dot(testSet,projMat1)\n",
        "reducedTest2= np.dot(testSet,projMat2)\n",
        "reducedTest3= np.dot(testSet,projMat3)\n",
        "reducedTest4= np.dot(testSet,projMat4)"
      ],
      "execution_count": null,
      "outputs": []
    },
    {
      "cell_type": "code",
      "metadata": {
        "id": "tH3ik-4vq4uY"
      },
      "source": [
        "from sklearn.neighbors import KNeighborsClassifier\n",
        "from sklearn import metrics"
      ],
      "execution_count": null,
      "outputs": []
    },
    {
      "cell_type": "code",
      "metadata": {
        "id": "OLKHoCcuq2uE"
      },
      "source": [
        "def knn(trainingSet,trainingLabel,testSet,testLabel,k):\n",
        "    knn = KNeighborsClassifier(n_neighbors=k)\n",
        "    knn.fit(trainingSet,trainingLabel)\n",
        "    predict=knn.predict(testSet)\n",
        "    accuracy  = metrics.accuracy_score(testLabel,predict)\n",
        "    return accuracy"
      ],
      "execution_count": null,
      "outputs": []
    },
    {
      "cell_type": "code",
      "metadata": {
        "colab": {
          "base_uri": "https://localhost:8080/"
        },
        "id": "yRR2Kj-fMvj5",
        "outputId": "2f4aa2ef-a5bf-4874-8a8d-b5bfff1e570d"
      },
      "source": [
        "knn(reducedTrain1,trainLabel,reducedTest1,testLabel,1)"
      ],
      "execution_count": null,
      "outputs": [
        {
          "output_type": "stream",
          "text": [
            "/usr/local/lib/python3.7/dist-packages/ipykernel_launcher.py:3: DataConversionWarning: A column-vector y was passed when a 1d array was expected. Please change the shape of y to (n_samples, ), for example using ravel().\n",
            "  This is separate from the ipykernel package so we can avoid doing imports until\n"
          ],
          "name": "stderr"
        },
        {
          "output_type": "execute_result",
          "data": {
            "text/plain": [
              "0.975"
            ]
          },
          "metadata": {
            "tags": []
          },
          "execution_count": 103
        }
      ]
    },
    {
      "cell_type": "code",
      "metadata": {
        "colab": {
          "base_uri": "https://localhost:8080/"
        },
        "id": "7bGnT3uZP8ZI",
        "outputId": "a3b05f43-7740-4d9d-b10e-710b1b8af94b"
      },
      "source": [
        "knn(reducedTrain2,trainLabel,reducedTest2,testLabel,1)"
      ],
      "execution_count": null,
      "outputs": [
        {
          "output_type": "stream",
          "text": [
            "/usr/local/lib/python3.7/dist-packages/ipykernel_launcher.py:3: DataConversionWarning: A column-vector y was passed when a 1d array was expected. Please change the shape of y to (n_samples, ), for example using ravel().\n",
            "  This is separate from the ipykernel package so we can avoid doing imports until\n"
          ],
          "name": "stderr"
        },
        {
          "output_type": "execute_result",
          "data": {
            "text/plain": [
              "0.9833333333333333"
            ]
          },
          "metadata": {
            "tags": []
          },
          "execution_count": 104
        }
      ]
    },
    {
      "cell_type": "code",
      "metadata": {
        "colab": {
          "base_uri": "https://localhost:8080/"
        },
        "id": "oeRtCdvIP86T",
        "outputId": "fc87f7de-896a-42bc-c5b6-7910cc5adee3"
      },
      "source": [
        "knn(reducedTrain3,trainLabel,reducedTest3,testLabel,1)"
      ],
      "execution_count": null,
      "outputs": [
        {
          "output_type": "stream",
          "text": [
            "/usr/local/lib/python3.7/dist-packages/ipykernel_launcher.py:3: DataConversionWarning: A column-vector y was passed when a 1d array was expected. Please change the shape of y to (n_samples, ), for example using ravel().\n",
            "  This is separate from the ipykernel package so we can avoid doing imports until\n"
          ],
          "name": "stderr"
        },
        {
          "output_type": "execute_result",
          "data": {
            "text/plain": [
              "0.975"
            ]
          },
          "metadata": {
            "tags": []
          },
          "execution_count": 105
        }
      ]
    },
    {
      "cell_type": "code",
      "metadata": {
        "colab": {
          "base_uri": "https://localhost:8080/"
        },
        "id": "Ud0G_JHkP9dx",
        "outputId": "fb158dfd-378a-4ff4-f6e4-5e33480b8dbf"
      },
      "source": [
        "knn(reducedTrain4,trainLabel,reducedTest4,testLabel,1)"
      ],
      "execution_count": null,
      "outputs": [
        {
          "output_type": "stream",
          "text": [
            "/usr/local/lib/python3.7/dist-packages/ipykernel_launcher.py:3: DataConversionWarning: A column-vector y was passed when a 1d array was expected. Please change the shape of y to (n_samples, ), for example using ravel().\n",
            "  This is separate from the ipykernel package so we can avoid doing imports until\n"
          ],
          "name": "stderr"
        },
        {
          "output_type": "execute_result",
          "data": {
            "text/plain": [
              "0.975"
            ]
          },
          "metadata": {
            "tags": []
          },
          "execution_count": 106
        }
      ]
    },
    {
      "cell_type": "code",
      "metadata": {
        "colab": {
          "base_uri": "https://localhost:8080/"
        },
        "id": "aVaBQ5yoQbvW",
        "outputId": "b8258483-b756-4a73-86cb-64128a5ffd38"
      },
      "source": [
        "plt.plot([0.8,0.85,0.9,0.95],[0.975,0.983,0.975,0.975]);\n",
        "plt.title('Relation between alpha and classification accuracy');\n",
        "plt.gcf().set_size_inches(15,5);\n",
        "plt.xlabel('Alpha');\n",
        "plt.ylabel('Accuracy');"
      ],
      "execution_count": null,
      "outputs": [
        {
          "output_type": "display_data",
          "data": {
            "image/png": "[encoded data removed]",
            "text/plain": [
              "<Figure size 1080x360 with 1 Axes>"
            ]
          },
          "metadata": {
            "tags": [],
            "needs_background": "light"
          }
        }
      ]
    },
    {
      "cell_type": "code",
      "metadata": {
        "id": "dNJ9XRULdkJ8"
      },
      "source": [
        "classesList=[]\n",
        "for i in range(0,281):\n",
        "    if(i%7==0 and i!=0):\n",
        "        classesList.append(trainSet[i-7:i,:])"
      ],
      "execution_count": null,
      "outputs": []
    },
    {
      "cell_type": "code",
      "metadata": {
        "id": "GE_geGk-dolB"
      },
      "source": [
        "classesMeans = np.mean(classesList, axis=1)"
      ],
      "execution_count": null,
      "outputs": []
    },
    {
      "cell_type": "code",
      "metadata": {
        "id": "7rg_InvNdylU"
      },
      "source": [
        "withinClassScatterMatrix = np.zeros((5600,5600))\n",
        "for i in range(0,40):\n",
        "    withinClassScatterMatrix += np.dot(np.transpose(classesList[i] - classesMeans[i]) , (classesList[i] - classesMeans[i]))"
      ],
      "execution_count": null,
      "outputs": []
    },
    {
      "cell_type": "code",
      "metadata": {
        "id": "atNXfI8Kd0wG"
      },
      "source": [
        "overallSampleMean = trainSet.mean(axis=0)"
      ],
      "execution_count": null,
      "outputs": []
    },
    {
      "cell_type": "code",
      "metadata": {
        "id": "hl5ltefngmtn"
      },
      "source": [
        "betweenClassScatterMatrix = 7 * np.dot(np.transpose(classesMeans - overallSampleMean),(classesMeans - overallSampleMean))"
      ],
      "execution_count": null,
      "outputs": []
    },
    {
      "cell_type": "code",
      "metadata": {
        "id": "G0lzmREwiXZ8"
      },
      "source": [
        "withinClassScatterMatrixInv = np.linalg.pinv(withinClassScatterMatrix)"
      ],
      "execution_count": null,
      "outputs": []
    },
    {
      "cell_type": "code",
      "metadata": {
        "id": "ndLbjYRJiaZF"
      },
      "source": [
        "sinverse_b = np.dot(withinClassScatterMatrixInv , betweenClassScatterMatrix)"
      ],
      "execution_count": null,
      "outputs": []
    },
    {
      "cell_type": "code",
      "metadata": {
        "id": "nFJTl7E2ionm"
      },
      "source": [
        "eigValLDA,eigVectLDA = np.linalg.eig(sinverse_b)"
      ],
      "execution_count": null,
      "outputs": []
    },
    {
      "cell_type": "code",
      "metadata": {
        "id": "hZ-h2lPTsADq"
      },
      "source": [
        "idx = eigValLDA.argsort()[-39:][::-1]\n",
        "sortedEigVectLDA = np.real(eigVectLDA[:,idx])"
      ],
      "execution_count": null,
      "outputs": []
    },
    {
      "cell_type": "code",
      "metadata": {
        "id": "l3zD4q5Blx6f"
      },
      "source": [
        "reducedTrainLDA = np.dot(trainSet,sortedEigVectLDA)\n",
        "reducedTestLDA = np.dot(testSet,sortedEigVectLDA)"
      ],
      "execution_count": null,
      "outputs": []
    },
    {
      "cell_type": "code",
      "metadata": {
        "colab": {
          "base_uri": "https://localhost:8080/"
        },
        "id": "QPLafxyQl3MR",
        "outputId": "d043d118-e1c6-4709-c0c5-27968aca7851"
      },
      "source": [
        "knn(reducedTrainLDA,trainLabel,reducedTestLDA,testLabel,1)"
      ],
      "execution_count": null,
      "outputs": [
        {
          "output_type": "stream",
          "text": [
            "/usr/local/lib/python3.7/dist-packages/ipykernel_launcher.py:3: DataConversionWarning: A column-vector y was passed when a 1d array was expected. Please change the shape of y to (n_samples, ), for example using ravel().\n",
            "  This is separate from the ipykernel package so we can avoid doing imports until\n"
          ],
          "name": "stderr"
        },
        {
          "output_type": "execute_result",
          "data": {
            "text/plain": [
              "0.9583333333333334"
            ]
          },
          "metadata": {
            "tags": []
          },
          "execution_count": 118
        }
      ]
    },
    {
      "cell_type": "code",
      "metadata": {
        "colab": {
          "base_uri": "https://localhost:8080/"
        },
        "id": "n_pnBgUQ4zEK",
        "outputId": "73c5757b-e720-4ba3-8afd-49f536277288"
      },
      "source": [
        "PCAscoreList = []\n",
        "for k in range(1,8,2):\n",
        "    PCAscoreList.append(knn(reducedTrain4,trainLabel,reducedTest4,testLabel,k))\n",
        "plt.plot([1,3,5,7],PCAscoreList);\n",
        "plt.title('The performance measure (accuracy) against the K value');\n",
        "plt.gcf().set_size_inches(15,5);\n",
        "plt.xlabel('K');\n",
        "plt.ylabel('Accuracy');"
      ],
      "execution_count": null,
      "outputs": [
        {
          "output_type": "stream",
          "text": [
            "/usr/local/lib/python3.7/dist-packages/ipykernel_launcher.py:3: DataConversionWarning: A column-vector y was passed when a 1d array was expected. Please change the shape of y to (n_samples, ), for example using ravel().\n",
            "  This is separate from the ipykernel package so we can avoid doing imports until\n",
            "/usr/local/lib/python3.7/dist-packages/ipykernel_launcher.py:3: DataConversionWarning: A column-vector y was passed when a 1d array was expected. Please change the shape of y to (n_samples, ), for example using ravel().\n",
            "  This is separate from the ipykernel package so we can avoid doing imports until\n",
            "/usr/local/lib/python3.7/dist-packages/ipykernel_launcher.py:3: DataConversionWarning: A column-vector y was passed when a 1d array was expected. Please change the shape of y to (n_samples, ), for example using ravel().\n",
            "  This is separate from the ipykernel package so we can avoid doing imports until\n",
            "/usr/local/lib/python3.7/dist-packages/ipykernel_launcher.py:3: DataConversionWarning: A column-vector y was passed when a 1d array was expected. Please change the shape of y to (n_samples, ), for example using ravel().\n",
            "  This is separate from the ipykernel package so we can avoid doing imports until\n"
          ],
          "name": "stderr"
        },
        {
          "output_type": "display_data",
          "data": {
            "image/png": "[encoded data removed]",
            "text/plain": [
              "<Figure size 1080x360 with 1 Axes>"
            ]
          },
          "metadata": {
            "tags": [],
            "needs_background": "light"
          }
        }
      ]
    },
    {
      "cell_type": "code",
      "metadata": {
        "colab": {
          "base_uri": "https://localhost:8080/",
          "height": 486
        },
        "id": "7SfP0pVN4vYD",
        "outputId": "bc275f8c-df8a-4250-80ed-ffb38b5a2fa4"
      },
      "source": [
        "LDAscoreList = []\n",
        "for k in range(1,8,2):\n",
        "    LDAscoreList.append(knn(reducedTrainLDA,trainLabel,reducedTestLDA,testLabel,k))\n",
        "plt.plot([1,3,5,7],LDAscoreList);\n",
        "plt.title('The performance measure (accuracy) against the K value');\n",
        "plt.gcf().set_size_inches(15,5);\n",
        "plt.xlabel('K');\n",
        "plt.ylabel('Accuracy');"
      ],
      "execution_count": null,
      "outputs": [
        {
          "output_type": "stream",
          "text": [
            "/usr/local/lib/python3.7/dist-packages/ipykernel_launcher.py:3: DataConversionWarning: A column-vector y was passed when a 1d array was expected. Please change the shape of y to (n_samples, ), for example using ravel().\n",
            "  This is separate from the ipykernel package so we can avoid doing imports until\n",
            "/usr/local/lib/python3.7/dist-packages/ipykernel_launcher.py:3: DataConversionWarning: A column-vector y was passed when a 1d array was expected. Please change the shape of y to (n_samples, ), for example using ravel().\n",
            "  This is separate from the ipykernel package so we can avoid doing imports until\n",
            "/usr/local/lib/python3.7/dist-packages/ipykernel_launcher.py:3: DataConversionWarning: A column-vector y was passed when a 1d array was expected. Please change the shape of y to (n_samples, ), for example using ravel().\n",
            "  This is separate from the ipykernel package so we can avoid doing imports until\n",
            "/usr/local/lib/python3.7/dist-packages/ipykernel_launcher.py:3: DataConversionWarning: A column-vector y was passed when a 1d array was expected. Please change the shape of y to (n_samples, ), for example using ravel().\n",
            "  This is separate from the ipykernel package so we can avoid doing imports until\n"
          ],
          "name": "stderr"
        },
        {
          "output_type": "display_data",
          "data": {
            "image/png": "[encoded data removed]",
            "text/plain": [
              "<Figure size 1080x360 with 1 Axes>"
            ]
          },
          "metadata": {
            "tags": [],
            "needs_background": "light"
          }
        }
      ]
    }
  ]
}